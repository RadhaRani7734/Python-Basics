{
  "nbformat": 4,
  "nbformat_minor": 0,
  "metadata": {
    "colab": {
      "provenance": []
    },
    "kernelspec": {
      "name": "python3",
      "display_name": "Python 3"
    },
    "language_info": {
      "name": "python"
    }
  },
  "cells": [
    {
      "cell_type": "code",
      "execution_count": null,
      "metadata": {
        "id": "w5_UBg80RFOX"
      },
      "outputs": [],
      "source": []
    },
    {
      "cell_type": "markdown",
      "source": [
        "#1. What is Python, and why is it popular?\n",
        "\n",
        "Python is a Highlevel, interpreted, general purpose programming language known for redable clear syntax.\n",
        "#Key reasons for python popularity:-\n",
        "- Python language is simple and accessible syntax\n",
        "- Python language is highly versatile and multipurpose\n",
        "  \n",
        "  for ex - it is used for Data science and machine learning,web development, software development.\n",
        "\n",
        "- Python language have vast ecosystem of libraries and framework.\n",
        "  Python libraries ecosystem is used at the time of write code. By using of the built in library save the time in writing code.\n",
        "\n",
        "- Python laguage is easily adopting in corporate and academic world because of its readable clear syntax.\n",
        "\n",
        "- Python language is a cross plateform compatibility because it can run on different operating system like as - Windows, linux, MacOs etc"
      ],
      "metadata": {
        "id": "hyey9aWXR_ST"
      }
    },
    {
      "cell_type": "markdown",
      "source": [
        "#2. What is an interpreter in Python?\n",
        "- A Python interpreter is a program that reads and directly executes the Python code.It is translate the python code instruction into a machine readable form and runs the code line by line. So it act as both translator and a run time environment for python code.\n",
        "- Whatever write in the form of Python code that is passes through Python interpreters which is responsible for\n",
        "      \n",
        "      - checking your code for syntax error i.e reading and parsing the code\n",
        "      - if code is valid then it is converting into an intermediate form called bytecode\n",
        "      - The bytecode is then sending to Python virtual machine for execution of code\n",
        "      - finally the output shown on the screen\n",
        "\n",
        "\n",
        "\n",
        "\n",
        "\n",
        "\n"
      ],
      "metadata": {
        "id": "klc6GgU4UIcb"
      }
    },
    {
      "cell_type": "markdown",
      "source": [
        "# 3. What are pre-defined keywords in Python?\n",
        "Keywords in Python are pre-defined keywords or special reserve words that are part of language itself so can not use as identifiers like as variable names, function names, class names etc"
      ],
      "metadata": {
        "id": "9UXPGqTZbiBE"
      }
    },
    {
      "cell_type": "markdown",
      "source": [
        " # 4. Can keywords be used as variable names?\n",
        " No, Because if we use keywords as variable name then syntax error will rise. Keywords are built-in function of python."
      ],
      "metadata": {
        "id": "sArNTJCvwZZN"
      }
    },
    {
      "cell_type": "markdown",
      "source": [
        "# 5. What is mutability in Python?\n",
        "In python mutability means can change their either can change their value or state without creating new variable is called mutability\n",
        "for ex- list,Dictionary, set etc are nutable function these object's attribute can be modify in many ways like as either by append or remove or pop etc of element."
      ],
      "metadata": {
        "id": "r1_MloVtw5Ne"
      }
    },
    {
      "cell_type": "markdown",
      "source": [
        "#6. Why are lists mutable, but tuples are immutable?\n",
        "List is a mutable because their implementaion include method for modification. list is allowing to change their elements, add the elements, and remove of elements after creation of list.when list is modify and changes occur \"in-place\" on the original object in memory.\n",
        "Tuples are immutable because their implementation for modification is not allowing.Tuples is not allowing to change their elements, add the elements, and remove the elements after creation of the tuple.When pass the tuple to modify then just its copy pass and every change is happen in new variable and does not effect the original one.\n"
      ],
      "metadata": {
        "id": "5z2mQ7aEyS-S"
      }
    },
    {
      "cell_type": "markdown",
      "source": [
        "# 7.  What is the difference between “==” and “is” operators in Python?\n",
        "- \"==\" is used to compare value while \"is\" used to compare the memory addresses\n",
        "- \"==\" is an equality operator while \"is\" an identity operator\n",
        "- \"==\" returns true if values are equals, otherwise false while \"is\" return true if same object point in memory otherwise false\n",
        "- a is b ->false (different objects) while a ==b -> true(same vale)\n"
      ],
      "metadata": {
        "id": "HI7zpj1p3G52"
      }
    },
    {
      "cell_type": "markdown",
      "source": [
        "# 8. What are logical operators in Python?\n",
        "Python's logical operator are used to combine conditional statement. These operators perform their task on the basis of truthiness(True/False)\n",
        "# There are mainly three logical operators\n",
        "- AND\n",
        "- OR\n",
        "- NOT\n",
        "# 1. AND\n",
        "- returns True if both operand are true\n",
        "- return False if either one operands or both operands are False\n",
        "# 2. OR\n",
        "- returns True if either one operands or both operands are True\n",
        "- returns False only when both operands are False\n",
        "# 3. NOT\n",
        "- it is operates on a single operands\n",
        "- If the operands is True, not makes it false and vice versa\n",
        "\n",
        "\n"
      ],
      "metadata": {
        "id": "596kl8bk6sgN"
      }
    },
    {
      "cell_type": "markdown",
      "source": [
        "# 9. What is type casting in Python?\n",
        "In Python,type casting is a process to conversion of value from one data type into another data types."
      ],
      "metadata": {
        "id": "79GMbdge9y1J"
      }
    },
    {
      "cell_type": "markdown",
      "source": [
        "# 10. What is the difference between implicit and explicit type casting?\n",
        "Explicit type casting conversion by user while implicit type casting automatic type conversion in Python.\n",
        "Ecplicit type casting conversion is a built in  function use to convert one data type to another data type while implicit type casting conversion perform automatically from one data types to another data types explicitly without user intervention."
      ],
      "metadata": {
        "id": "TTxfHsO8-vSz"
      }
    },
    {
      "cell_type": "markdown",
      "source": [],
      "metadata": {
        "id": "PW05JwcYAPPE"
      }
    },
    {
      "cell_type": "markdown",
      "source": [
        "# Practical Questions"
      ],
      "metadata": {
        "id": "Jr4AfAUoAjl9"
      }
    },
    {
      "cell_type": "markdown",
      "source": [
        "# 1. Write a Python program to print \"Hello, World"
      ],
      "metadata": {
        "id": "Go_pA4BLArgX"
      }
    },
    {
      "cell_type": "code",
      "source": [
        "print(\"Hello world\")"
      ],
      "metadata": {
        "colab": {
          "base_uri": "https://localhost:8080/"
        },
        "id": "CSnQJV2NAxZY",
        "outputId": "6c8fd239-01af-4386-85a9-543f0875f73b"
      },
      "execution_count": 1,
      "outputs": [
        {
          "output_type": "stream",
          "name": "stdout",
          "text": [
            "Hello world\n"
          ]
        }
      ]
    },
    {
      "cell_type": "markdown",
      "source": [
        "#2. Write a Python program that displays your name and age"
      ],
      "metadata": {
        "id": "nB7-KbdjA9Kv"
      }
    },
    {
      "cell_type": "code",
      "source": [
        "name = input(\"Enter your name\")\n",
        "age = int(input(\"Enter your age\"))\n",
        "print(\"Name -\",name)\n",
        "print(\"Age -\",age)"
      ],
      "metadata": {
        "id": "11-kCC2XBFRX"
      },
      "execution_count": null,
      "outputs": []
    },
    {
      "cell_type": "markdown",
      "source": [
        "# 3. Write code to print all the pre-defined keywords in Python using the keyword library."
      ],
      "metadata": {
        "id": "UMcO0tkvBMBP"
      }
    },
    {
      "cell_type": "code",
      "source": [
        "import keyword\n",
        "all_keywords = keyword.kwlist\n",
        "print(\"Print all keywords of python: \\n\", all_keywords)\n"
      ],
      "metadata": {
        "id": "wXLR8egUBXGg"
      },
      "execution_count": null,
      "outputs": []
    },
    {
      "cell_type": "markdown",
      "source": [
        "# 4. Write a program that checks if a given word is a Python keyword.\n",
        ""
      ],
      "metadata": {
        "id": "5HuyIB0OBy-B"
      }
    },
    {
      "cell_type": "code",
      "source": [
        "#Operation on list\n",
        "l = [\"Apple\",\"Banana\",\"Mango\",2,34,5,\"Pomegranate\"]\n",
        "print(\"List:- \\n\",l)\n",
        "l.append(\"Grapes\")\n",
        "print(\"Updated list:- \\n\",l)\n",
        "l.remove(34)\n",
        "print(\"List after removed element:- \\n\",l)\n",
        "l[3] = 8\n",
        "print(\"List after replace index 3 elements:- \\n\",l)\n",
        "\n",
        "#Operation on Tuple\n",
        "\n",
        "tu_ple = (\"TajMahal\",\"KutumMinar\",\"Hawamahal\",23,45,6,7,\"IndiaGate\")\n",
        "print(\"Tuple :- \\n\",tu_ple)\n",
        "t = tu_ple.index(\"IndiaGate\")\n",
        "print(\"Index value: \",t)\n",
        "# tuple is a immutable . So can not append, remove, change, and replace of element like as List.\n",
        "#list contain many function to operate on list but tuples have some specific function mainly built in function\n",
        "# list is a mutable. so list can be append, change, remove, replace etc of elements"
      ],
      "metadata": {
        "id": "kB1sDvvUCMhg"
      },
      "execution_count": null,
      "outputs": []
    },
    {
      "cell_type": "markdown",
      "source": [],
      "metadata": {
        "id": "-EdiI62jDjrP"
      }
    },
    {
      "cell_type": "markdown",
      "source": [
        "#5. Create a list and tuple in Python, and demonstrate how attempting to change an element works differently for each."
      ],
      "metadata": {
        "id": "lLUR6BM3CoBi"
      }
    },
    {
      "cell_type": "code",
      "source": [
        "\n",
        "List:-\n",
        "# :- List make using square[] brackets.List can be modify the list-in place by using different function like as append, remove, replace, sort, pop,extend etc\n",
        "# :- So list is a mutable function i.e easily can modify the list by using list modify function\n",
        "#:-Almost all function use to modify list is a return type = None function\n",
        "\n",
        "#Created a list:-\n",
        "l = [\"Mango\",\"Banana\",1,2,\"Apple\",\"Orange\",7,4,5,\"Pomegrante\",\"PineApple\"]\n",
        "print(\"List:-\\n\",l)\n",
        "\n",
        "len_gth = len(l)\n",
        "print(\"Length of the list is:\",len_gth)\n",
        "\n",
        "# Append function - To add new element in the list at the end.\n",
        "l.append(\"Strawberry\")\n",
        "print(\"Updated list:\",l)\n",
        "\n",
        "#Tuples:-\n",
        "# Tuple is created by using of round() bracket.Tuple can not be modify directly.\n",
        "# It can be modify either by changing in list or by concatenation process.\n",
        "tu_ple = (\"HawaMahal\",\"TajMahal\",\"IndiaGate\",\"KutubMinar\",1,2,3,4)\n",
        "print(\"Tuple: \\n\",tu_ple)\n",
        "# if want to add element using function directly then in this tuple the error will rise.\n",
        "# To add element in this tuple modify firstly in list then convert in again back in tuple\n",
        "my_tuple_list = list(tu_ple)\n",
        "print(\"Tuple has changed in list to modify: \\n\",my_tuple_list)\n",
        "\n",
        "# Now use the append function to modify tuple_list\n",
        "\n",
        "my_tuple_list.append(\"RedFort\")\n",
        "print(\"Updated my_tuple_list is: \\n\",my_tuple_list)\n",
        "my_tuple = tuple(my_tuple_list)\n",
        "print(\"Updated tuple is: \\n\",my_tuple)"
      ],
      "metadata": {
        "id": "j8sQ9wtTCtql"
      },
      "execution_count": null,
      "outputs": []
    },
    {
      "cell_type": "markdown",
      "source": [
        "#6. Write a function to demonstrate the behavior of mutable and immutable arguments."
      ],
      "metadata": {
        "id": "CObOnKsDCc-V"
      }
    },
    {
      "cell_type": "code",
      "source": [
        "def demonstrative_mut_imutablity(my_list,my_tuple):\n",
        "    # code for list\n",
        "    print(\"My original list(inside) is:\",my_list)\n",
        "    my_list.append(9)\n",
        "    print(\"My updated list(inside) is: \\n\",my_list)\n",
        "\n",
        "    #code for tuple\n",
        "    print(\"My original tuple(inside) is: \\n\",my_tuple)\n",
        "    my_tuple = my_tuple +10 # this variable scope will remain inside of this function. outside of this function its existence is dead. why = ?\n",
        "    # why = ? because this is create another return function and all changes now will happen in this type variable and original variable will not effect.\n",
        "    print(\"My updated tuple(inside) is:\\n\",my_tuple)\n",
        "\n",
        "my_list = [1,2,4,5,6]\n",
        "my_tuple = 10\n",
        "print(\"My original list(outside) is: \\n\",my_list)\n",
        "print(\"My original tuple is:\\n\",my_tuple)\n",
        "\n",
        "demonstrative_mut_imutablity(my_list,my_tuple)\n",
        "print(\"List (outside)after function call: \\n\",my_list)\n",
        "print(\"Tuple(outside) after the function call:\\n\",my_tuple) #There is no mutability in this function so we call tuple as immutable function."
      ],
      "metadata": {
        "id": "u7lFNICUCisw"
      },
      "execution_count": null,
      "outputs": []
    },
    {
      "cell_type": "markdown",
      "source": [
        "#7. Write a program that performs basic arithmetic operations on two user-input numbers."
      ],
      "metadata": {
        "id": "mpvTHKpUDqJl"
      }
    },
    {
      "cell_type": "code",
      "source": [
        "a = int(input(\"Enter your number:\"))\n",
        "b = int(input(\"Enter your number:\"))\n",
        "add_ition = a+b\n",
        "print(\"Add of two number is:\\n\",add_ition)\n",
        "multiplication = a*b\n",
        "print(\"Multiply of two number is:\\n\",multiplication)\n",
        "subtraction = a-b\n",
        "print(\"Subtract of two number is:\\n\",subtraction)\n"
      ],
      "metadata": {
        "id": "eH6jVrXtDtQj"
      },
      "execution_count": null,
      "outputs": []
    },
    {
      "cell_type": "markdown",
      "source": [
        "#8. Write a program to demonstrate the use of logical operators."
      ],
      "metadata": {
        "id": "1s59QpdIEhVS"
      }
    },
    {
      "cell_type": "code",
      "source": [
        "# Logical operators\n",
        "# and operators\n",
        "a = 5\n",
        "print(a>0 and a <9)\n",
        "print(a>0 and a <3)\n",
        "\n",
        "# OR operator\n",
        "print(\"-----------\")\n",
        "print(a>0 or a<6)\n",
        "print(a<0 or a>6)\n",
        "\n",
        "print(\"============\")\n",
        "# Not operator\n",
        "is_switch_open = True\n",
        "print(not is_switch_open)"
      ],
      "metadata": {
        "id": "dIV00TK3EjW9"
      },
      "execution_count": null,
      "outputs": []
    },
    {
      "cell_type": "markdown",
      "source": [
        "#9. Write a Python program to convert user input from string to integer, float, and boolean types."
      ],
      "metadata": {
        "id": "nQ0hCN9UD7Fp"
      }
    },
    {
      "cell_type": "code",
      "source": [
        "user_input = input(\"Enter your input:\")\n",
        "print(\"User Input:\\n\",user_input)\n",
        "print(\"Type:\\n\",type(user_input))\n",
        "\n",
        "print(\"Integer type:\\n\",int(float(user_input)))\n",
        "print(\"Float data types:\\n\",float(user_input))\n",
        "print(\"bool data types:\\n\",bool(user_input))\n"
      ],
      "metadata": {
        "id": "wOD-5UBPEq60"
      },
      "execution_count": null,
      "outputs": []
    },
    {
      "cell_type": "markdown",
      "source": [
        "#10. Write code to demonstrate type casting with list elements."
      ],
      "metadata": {
        "id": "exflITyZEAcy"
      }
    },
    {
      "cell_type": "code",
      "source": [
        "l = [5,6,7,8]\n",
        "# Comprehension type\n",
        "integer_list = [int(item) for item in l]\n",
        "print(\"Integer list:\\n\",integer_list)\n",
        "\n",
        "# using for loop\n",
        "float_list = []\n",
        "for item in l:\n",
        "    float_list.append(float(item))\n",
        "print(\"Float list:\\n\",float_list)\n",
        "\n",
        "# using map function\n",
        "\n",
        "int_list = list(map(int,l))\n",
        "print(\"Integer list:\\n\",int_list)"
      ],
      "metadata": {
        "id": "lWdOdQhZEvds"
      },
      "execution_count": null,
      "outputs": []
    },
    {
      "cell_type": "markdown",
      "source": [
        "#11. Write a program that checks if a number is positive, negative, or zero."
      ],
      "metadata": {
        "id": "LoqwskpAEGMx"
      }
    },
    {
      "cell_type": "code",
      "source": [
        "check_number = int(input(\"Enter the Number\"))\n",
        "\n",
        "if check_number >0:\n",
        "    print(f\"{check_number} is positive\")\n",
        "elif check_number <0:\n",
        "    print(f\"{check_number} is negative\")\n",
        "elif check_number ==0:\n",
        "    print(f\"{check_number} is zero\")\n",
        "else:\n",
        "    print(\"Number is not in range\")"
      ],
      "metadata": {
        "id": "nPb1AsH0E1f-"
      },
      "execution_count": null,
      "outputs": []
    },
    {
      "cell_type": "markdown",
      "source": [
        "#12. Write a for loop to print numbers from 1 to 10."
      ],
      "metadata": {
        "id": "yjHmra8EEIdd"
      }
    },
    {
      "cell_type": "code",
      "source": [
        "#question - 12\n",
        "print(range(10))\n",
        "for i in range(10):\n",
        "    print(i)"
      ],
      "metadata": {
        "id": "iLTvIWDIE509"
      },
      "execution_count": null,
      "outputs": []
    },
    {
      "cell_type": "markdown",
      "source": [
        "#13. Write a Python program to find the sum of all even numbers between 1 and 50."
      ],
      "metadata": {
        "id": "BZvPRKA7ECaR"
      }
    },
    {
      "cell_type": "code",
      "source": [
        "sum =0\n",
        "num = 1\n",
        "while num <50:\n",
        "    if num%2 ==0:\n",
        "        sum = sum +num\n",
        "        #print(\"Sum of recurring even number between 1 to 50 is:\\n\",sum)\n",
        "    num = num +1\n",
        "\n",
        "\n",
        "print(\"Sum of all even number between 1 to 50:\\n\",sum)\n"
      ],
      "metadata": {
        "id": "Dw-g0Gr_E_Vw"
      },
      "execution_count": null,
      "outputs": []
    },
    {
      "cell_type": "markdown",
      "source": [
        "#14. Write a program to reverse a string using a while loop."
      ],
      "metadata": {
        "id": "iiZEmopsD9DJ"
      }
    },
    {
      "cell_type": "code",
      "source": [
        "string = \"Navneet\"\n",
        "index =len(string)\n",
        "while index >0:\n",
        "    reverse_string = string[index-1]\n",
        "    print(reverse_string, end = \"\")\n",
        "\n",
        "    index = index -1"
      ],
      "metadata": {
        "id": "hZSdSFIGFDjy"
      },
      "execution_count": null,
      "outputs": []
    },
    {
      "cell_type": "markdown",
      "source": [
        "#15. Write a Python program to calculate the factorial of a number provided by the user using a while loop"
      ],
      "metadata": {
        "id": "4zk2NNHIEXfz"
      }
    },
    {
      "cell_type": "code",
      "source": [
        "number = int(input(\"Enter your number\"))\n",
        "index = 1\n",
        "factorial_number = 1\n",
        "while index <(number+1):\n",
        "    factorial_number = factorial_number*index\n",
        "    index = index +1\n",
        "print(f\"Factorial of {number} is:\", factorial_number)"
      ],
      "metadata": {
        "id": "4wIHlc33FHdk"
      },
      "execution_count": null,
      "outputs": []
    },
    {
      "cell_type": "markdown",
      "source": [],
      "metadata": {
        "id": "-NudHsgRCUn2"
      }
    }
  ]
}